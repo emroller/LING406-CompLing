{
 "metadata": {
  "language_info": {
   "codemirror_mode": {
    "name": "ipython",
    "version": 3
   },
   "file_extension": ".py",
   "mimetype": "text/x-python",
   "name": "python",
   "nbconvert_exporter": "python",
   "pygments_lexer": "ipython3",
   "version": "3.8.2-final"
  },
  "orig_nbformat": 2,
  "kernelspec": {
   "name": "python3",
   "display_name": "Python 3.8.2 64-bit",
   "metadata": {
    "interpreter": {
     "hash": "31f2aee4e71d21fbe5cf8b01ff0e069b9275f58929596ceb00d14d90e3e16cd6"
    }
   }
  }
 },
 "nbformat": 4,
 "nbformat_minor": 2,
 "cells": [
  {
   "cell_type": "code",
   "execution_count": 1,
   "metadata": {},
   "outputs": [],
   "source": [
    "### Baseline sentiment analysis classifer ###\n",
    "# Uses k-fold cross validation and a Naive Bayes ML model #\n",
    "# Outputs average accuracy of the model #"
   ]
  },
  {
   "cell_type": "code",
   "execution_count": 14,
   "metadata": {},
   "outputs": [],
   "source": [
    "import tarfile\n",
    "import nltk\n",
    "import sys\n",
    "import random\n",
    "import numpy as np\n",
    "import sklearn\n",
    "from sklearn.model_selection import KFold, ShuffleSplit\n",
    "import string\n",
    "import re\n",
    "from sklearn.model_selection import train_test_split\n",
    "from nltk import classify\n",
    "from nltk import NaiveBayesClassifier\n",
    "from nltk.corpus import stopwords\n",
    "from nltk.tag import pos_tag\n",
    "from nltk.stem.wordnet import WordNetLemmatizer\n",
    "\n"
   ]
  },
  {
   "cell_type": "code",
   "execution_count": 15,
   "metadata": {},
   "outputs": [],
   "source": [
    "# training/testing data files\n",
    "polaritytar = tarfile.open(\"../Data/review_polarity.tar.gz\", \"r\")\n",
    "polaritytar.extractall('../Data/Polarity_Data')"
   ]
  },
  {
   "cell_type": "code",
   "execution_count": 16,
   "metadata": {
    "tags": []
   },
   "outputs": [],
   "source": [
    "### get all the lines from all the reviews ###\n",
    "\n",
    "# lines from negative reviews\n",
    "neglines = []\n",
    "for nfilename in os.listdir('../Data/Polarity_Data/txt_sentoken/neg'):\n",
    "    openFile = open(('../Data/Polarity_Data/txt_sentoken/neg/' + nfilename),\"r\")\n",
    "    neglines = openFile.readlines()\n",
    "\n",
    "# lines from positive reviews\n",
    "poslines = []\n",
    "for pfilename in os.listdir('../Data/Polarity_Data/txt_sentoken/pos'):\n",
    "    openFile = open(('../Data/Polarity_Data/txt_sentoken/pos/' + pfilename),\"r\")\n",
    "    poslines = openFile.readlines()\n",
    "    "
   ]
  },
  {
   "cell_type": "code",
   "execution_count": 17,
   "metadata": {},
   "outputs": [],
   "source": [
    "### tokenize each line based on whitespace ###\n",
    "\n",
    "# tokens for positive reviews\n",
    "poslines_tokens = []\n",
    "for line in poslines:\n",
    "    l = []\n",
    "    for word in line.split():\n",
    "        l.append(word)\n",
    "    poslines_tokens.append(l)\n",
    "# tokens for negative reviews\n",
    "neglines_tokens = []\n",
    "for line in neglines:\n",
    "    l = []\n",
    "    for word in line.split():\n",
    "        l.append(word)\n",
    "    neglines_tokens.append(l)"
   ]
  },
  {
   "cell_type": "code",
   "execution_count": 18,
   "metadata": {},
   "outputs": [],
   "source": [
    "### helper function to remove non-alphanumeric characters and lowercase each token ###\n",
    "def clean_tokens(tweet_tokens):\n",
    "    cleaned_tokens = []\n",
    "    \n",
    "    for token, tag in pos_tag(tweet_tokens):\n",
    "        cleaned_tokens.append(token.lower())\n",
    "\n",
    "    return cleaned_tokens"
   ]
  },
  {
   "cell_type": "code",
   "execution_count": 19,
   "metadata": {},
   "outputs": [],
   "source": [
    "### clean up the tokens list ###\n",
    "positive_cleaned_tokens = []\n",
    "negative_cleaned_tokens = []\n",
    "\n",
    "for tokens in poslines_tokens:\n",
    "    positive_cleaned_tokens.append(clean_tokens(tokens))\n",
    "\n",
    "for tokens in neglines_tokens:\n",
    "    negative_cleaned_tokens.append(clean_tokens(tokens))"
   ]
  },
  {
   "cell_type": "code",
   "execution_count": 20,
   "metadata": {},
   "outputs": [],
   "source": [
    "### helper function to create the model from the tokens list ###\n",
    "def create_model(cleaned_tokens_list):\n",
    "    for tokens in cleaned_tokens_list:\n",
    "        yield dict([token, True] for token in tokens)"
   ]
  },
  {
   "cell_type": "code",
   "execution_count": 21,
   "metadata": {
    "tags": []
   },
   "outputs": [],
   "source": [
    "positive_tokens_for_model = create_model(positive_cleaned_tokens)\n",
    "negative_tokens_for_model = create_model(negative_cleaned_tokens)"
   ]
  },
  {
   "cell_type": "code",
   "execution_count": 22,
   "metadata": {
    "tags": []
   },
   "outputs": [],
   "source": [
    "# categorize the tokens in each tweet to creat the dataset\n",
    "positive_dataset = [(t,\"Positive\")\n",
    "                     for t in positive_tokens_for_model]\n",
    "negative_dataset = [(t,\"Negative\")\n",
    "                     for t in negative_tokens_for_model]\n",
    "\n",
    "# dataset will be shuffled later so no need to shuffle here\n",
    "dataset = positive_dataset + negative_dataset\n"
   ]
  },
  {
   "cell_type": "code",
   "execution_count": 23,
   "metadata": {},
   "outputs": [],
   "source": [
    "np_dataset = np.array(dataset)"
   ]
  },
  {
   "cell_type": "code",
   "execution_count": 24,
   "metadata": {},
   "outputs": [
    {
     "output_type": "stream",
     "name": "stdout",
     "text": [
      "Accuracy is: 0.8272727272727274\n"
     ]
    }
   ],
   "source": [
    "# use k-fold cross validation with k = 10 to train and test\n",
    "kfold = KFold(n_splits=10, shuffle=True, random_state=1)\n",
    "mean_accuracy = list()\n",
    "\n",
    "for train, test in kfold.split(np_dataset):\n",
    "    # use naive bayes classifier -  different classifiers are explored in revised version\n",
    "    classifier = NaiveBayesClassifier.train(np_dataset[train])\n",
    "    mean_accuracy.append(classify.accuracy(classifier, np_dataset[test]))\n",
    "    \n",
    "# print the mean accuracy across all the folds\n",
    "print(\"Accuracy is:\", np.mean(mean_accuracy))\n"
   ]
  },
  {
   "cell_type": "code",
   "execution_count": null,
   "metadata": {},
   "outputs": [],
   "source": []
  }
 ]
}