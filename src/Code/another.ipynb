{
 "metadata": {
  "language_info": {
   "codemirror_mode": {
    "name": "ipython",
    "version": 3
   },
   "file_extension": ".py",
   "mimetype": "text/x-python",
   "name": "python",
   "nbconvert_exporter": "python",
   "pygments_lexer": "ipython3",
   "version": "3.8.2-final"
  },
  "orig_nbformat": 2,
  "kernelspec": {
   "name": "python3",
   "display_name": "Python 3.8.2 64-bit",
   "metadata": {
    "interpreter": {
     "hash": "31f2aee4e71d21fbe5cf8b01ff0e069b9275f58929596ceb00d14d90e3e16cd6"
    }
   }
  }
 },
 "nbformat": 4,
 "nbformat_minor": 2,
 "cells": [
  {
   "cell_type": "code",
   "execution_count": 851,
   "metadata": {},
   "outputs": [],
   "source": [
    "### Baseline sentiment analysis classifer ###\n",
    "# Uses 5-fold cross validation and a Naive Bayes ML model #\n",
    "# Outputs average accuracy of the model #"
   ]
  },
  {
   "source": [
    "import tarfile\n",
    "import nltk\n",
    "import sys\n",
    "import random\n",
    "import numpy as np\n",
    "import sklearn\n",
    "from sklearn.model_selection import KFold, ShuffleSplit\n",
    "import string\n",
    "import re\n",
    "from sklearn.naive_bayes import BernoulliNB\n",
    "from sklearn.model_selection import train_test_split\n",
    "from nltk import classify\n",
    "from nltk.classify import SklearnClassifier\n",
    "from nltk import NaiveBayesClassifier, DecisionTreeClassifier, MaxentClassifier, maxent\n",
    "from nltk.corpus import stopwords\n",
    "from nltk.tag import pos_tag\n",
    "from nltk.stem.wordnet import WordNetLemmatizer\n",
    "from nltk.tag import pos_tag\n",
    "from nltk.metrics.scores import precision, recall\n"
   ],
   "cell_type": "code",
   "metadata": {},
   "execution_count": 852,
   "outputs": []
  },
  {
   "cell_type": "code",
   "execution_count": 853,
   "metadata": {},
   "outputs": [],
   "source": [
    "# training/testing data files\n",
    "polaritytar = tarfile.open(\"../Data/review_polarity.tar.gz\", \"r\")\n",
    "polaritytar.extractall('../Data/Polarity_Data')\n",
    "\n",
    "nrctar = tarfile.open(\"../Data/NRC-Sentiment-Emotion-Lexicons.tar.gz\")\n",
    "nrctar.extractall('../Data/NRC_Data')"
   ]
  },
  {
   "cell_type": "code",
   "execution_count": 854,
   "metadata": {
    "tags": []
   },
   "outputs": [],
   "source": [
    "### get all the lines from all the reviews ###\n",
    "\n",
    "# lines from negative reviews\n",
    "neglines = []\n",
    "for nfilename in os.listdir('../Data/Polarity_Data/txt_sentoken/neg'):\n",
    "    openFile = open(('../Data/Polarity_Data/txt_sentoken/neg/' + nfilename),\"r\")\n",
    "    neglines = openFile.readlines()\n",
    "\n",
    "# lines from positive reviews\n",
    "poslines = []\n",
    "for pfilename in os.listdir('../Data/Polarity_Data/txt_sentoken/pos'):\n",
    "    openFile = open(('../Data/Polarity_Data/txt_sentoken/pos/' + pfilename),\"r\")\n",
    "    poslines = openFile.readlines()\n",
    "    "
   ]
  },
  {
   "cell_type": "code",
   "execution_count": 855,
   "metadata": {},
   "outputs": [],
   "source": [
    "intensityFile = open('../Data/NRC_Data/NRC-Sentiment-Emotion-Lexicons/NRC-Sentiment-Emotion-Lexicons/NRC-Affect-Intensity-Lexicon/NRC-AffectIntensity-Lexicon.txt')\n",
    "intensitylines = intensityFile.readlines()"
   ]
  },
  {
   "cell_type": "code",
   "execution_count": 856,
   "metadata": {},
   "outputs": [],
   "source": [
    "intensitywords = []\n",
    "word_emotions = dict()\n",
    "for line in intensitylines[1:]:\n",
    "    stuff = line.strip().split(\"\\t\")\n",
    "    tup = (stuff[0], stuff[2])\n",
    "    if stuff[0] not in intensitywords:\n",
    "        intensitywords.append(stuff[0])\n",
    "    word_emotions.update({tup})"
   ]
  },
  {
   "cell_type": "code",
   "execution_count": 857,
   "metadata": {},
   "outputs": [],
   "source": [
    "### tokenize each line based on whitespace ###\n",
    "\n",
    "# tokens for positive reviews\n",
    "poslines_tokens = []\n",
    "for line in poslines:\n",
    "    l = []\n",
    "    for word in line.split():\n",
    "        l.append(word)\n",
    "    poslines_tokens.append(l)\n",
    "# tokens for negative reviews\n",
    "neglines_tokens = []\n",
    "for line in neglines:\n",
    "    l = []\n",
    "    for word in line.split():\n",
    "        l.append(word)\n",
    "    neglines_tokens.append(l)"
   ]
  },
  {
   "cell_type": "code",
   "execution_count": 858,
   "metadata": {},
   "outputs": [],
   "source": [
    "### helper function to remove non-alphanumeric characters and lowercase each token ###\n",
    "def text_process(tweet_tokens):\n",
    "    cleaned_tokens = []\n",
    "    \n",
    "    for token, tag in pos_tag(tweet_tokens):\n",
    "        if len(token) != 0 and token not in string.punctuation and token.lower() not in stopwords.words('english'):\n",
    "            cleaned_tokens.append(token.lower())\n",
    "\n",
    "    #return pos_tag(cleaned_tokens)\n",
    "    return cleaned_tokens"
   ]
  },
  {
   "cell_type": "code",
   "execution_count": 859,
   "metadata": {},
   "outputs": [],
   "source": [
    "### clean up the tokens list ###\n",
    "positive_cleaned_tokens = []\n",
    "negative_cleaned_tokens = []\n",
    "\n",
    "for tokens in poslines_tokens:\n",
    "    positive_cleaned_tokens.append(text_process(tokens))\n",
    "\n",
    "for tokens in neglines_tokens:\n",
    "    negative_cleaned_tokens.append(text_process(tokens))"
   ]
  },
  {
   "cell_type": "code",
   "execution_count": 860,
   "metadata": {},
   "outputs": [],
   "source": [
    "### helper function to create the model from the tokens list ###\n",
    "def create_model(cleaned_tokens_list):\n",
    "    for tokens in cleaned_tokens_list:\n",
    "        for token in tokens:\n",
    "            if token in intensitywords:\n",
    "                yield {(token , word_emotions[token]) : True}\n",
    "            else:\n",
    "                yield {(token , \"None\") : True}"
   ]
  },
  {
   "cell_type": "code",
   "execution_count": 861,
   "metadata": {
    "tags": []
   },
   "outputs": [],
   "source": [
    "positive_tokens_for_model = create_model(positive_cleaned_tokens)\n",
    "negative_tokens_for_model = create_model(negative_cleaned_tokens)"
   ]
  },
  {
   "cell_type": "code",
   "execution_count": 862,
   "metadata": {
    "tags": []
   },
   "outputs": [],
   "source": [
    "# categorize the tokens in each tweet to creat the dataset\n",
    "positive_dataset = list()\n",
    "for t in positive_tokens_for_model:\n",
    "    for pair in t.keys():\n",
    "        if pair[1] == \"None\" or pair[1] == \"joy\":\n",
    "            positive_dataset.append( ({pair[0] : \"Positive\"} ,True) )\n",
    "        else:\n",
    "            positive_dataset.append( ({pair[0] : \"Negative\"}, True))\n",
    "\n",
    "negative_dataset = list()\n",
    "for t in negative_tokens_for_model:\n",
    "    for k in t.keys():\n",
    "        if pair[1] == \"joy\":\n",
    "            negative_dataset.append( ({pair[0]: \"Positive\"}, True))\n",
    "        else:\n",
    "            negative_dataset.append(({pair[0] : \"Negative\"}, True))\n",
    "\n",
    "# dataset will be shuffled later so no need to shuffle here\n",
    "dataset = positive_dataset + negative_dataset\n"
   ]
  },
  {
   "cell_type": "code",
   "execution_count": 863,
   "metadata": {},
   "outputs": [
    {
     "output_type": "execute_result",
     "data": {
      "text/plain": [
       "[({'capsule': 'Positive'}, True),\n",
       " ({'director': 'Positive'}, True),\n",
       " ({'cure': 'Positive'}, True),\n",
       " ({'brings': 'Positive'}, True),\n",
       " ({'weird': 'Positive'}, True),\n",
       " ({'complex': 'Positive'}, True),\n",
       " ({'concept': 'Positive'}, True),\n",
       " ({'screen': 'Positive'}, True),\n",
       " ({'one': 'Positive'}, True),\n",
       " ({'viewing': 'Positive'}, True),\n",
       " ({'enough': 'Positive'}, True),\n",
       " ({'understand': 'Positive'}, True),\n",
       " ({'fully': 'Positive'}, True),\n",
       " ({'premise': 'Positive'}, True),\n",
       " ({'pulse': 'Positive'}, True),\n",
       " ({'idea': 'Positive'}, True),\n",
       " ({'something': 'Positive'}, True),\n",
       " ({'ghosts': 'Positive'}, True),\n",
       " ({'internet': 'Positive'}, True),\n",
       " ({'film': 'Positive'}, True),\n",
       " ({'amazing': 'Positive'}, True),\n",
       " ({'apocalyptic': 'Positive'}, True),\n",
       " ({'style': 'Positive'}, True),\n",
       " ({'+2': 'Positive'}, True),\n",
       " ({'-4': 'Positive'}, True),\n",
       " ({'+4': 'Positive'}, True),\n",
       " ({'perhaps': 'Positive'}, True),\n",
       " ({'disturbing': 'Positive'}, True),\n",
       " ({'disturbed': 'Negative'}, True),\n",
       " ({'filmmaker': 'Positive'}, True)]"
      ]
     },
     "metadata": {},
     "execution_count": 863
    }
   ],
   "source": [
    "dataset[:30]"
   ]
  },
  {
   "cell_type": "code",
   "execution_count": 864,
   "metadata": {},
   "outputs": [],
   "source": [
    "np_dataset = np.array(dataset)"
   ]
  },
  {
   "cell_type": "code",
   "execution_count": 865,
   "metadata": {},
   "outputs": [
    {
     "output_type": "stream",
     "name": "stdout",
     "text": [
      "Naive Bayes accuracy is: 1.0\n"
     ]
    }
   ],
   "source": [
    "\n",
    "# use k-fold cross validation with k = 10 to train and test\n",
    "kfold = KFold(n_splits=9, shuffle=True, random_state=1)\n",
    "nb_mean_accuracy, dt_mean_accuracy, bern_mean_accuracy = list(), list(), list()\n",
    "\n",
    "for train, test in kfold.split(np_dataset):\n",
    "    # use naive bayes classifier -  different classifiers are explored in revised version\n",
    "    nb_classifier = NaiveBayesClassifier.train(np_dataset[train])\n",
    "    nb_mean_accuracy.append(classify.accuracy(nb_classifier, np_dataset[test]))\n",
    "\n",
    "    # dt_classifier = DecisionTreeClassifier.train(np_dataset[train])\n",
    "    # dt_mean_accuracy.append(classify.accuracy(dt_classifier, np_dataset[test]))\n",
    "\n",
    "    # bern_classifier = SklearnClassifier(BernoulliNB()).train(np_dataset[train])\n",
    "    # bern_mean_accuracy.append(classify.accuracy(bern_classifier, np_dataset[test]))\n",
    "    \n",
    "# print the mean accuracy across all the folds\n",
    "print(\"Naive Bayes accuracy is:\", np.mean(nb_mean_accuracy))\n",
    "#print(\"Decision Tree accuracy is:\", np.mean(dt_mean_accuracy))\n",
    "#print(\" accuracy is:\", np.mean(bern_mean_accuracy))\n"
   ]
  },
  {
   "cell_type": "code",
   "execution_count": 866,
   "metadata": {},
   "outputs": [],
   "source": [
    "# list of changes:\n",
    "    # 1. in text_process: only append token if len > 0 and not punctuation and not stop word-0\n",
    "    # 2. Change n_splits to 9 (not sure why but accuracy goes from 84.7% to 85.5%)\n",
    "    # 3. add POS tags to each token so it's (Token, POS)\n",
    "    # 4. add in Decision Tree classifier"
   ]
  }
 ]
}