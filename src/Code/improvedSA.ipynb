{
 "metadata": {
  "language_info": {
   "codemirror_mode": {
    "name": "ipython",
    "version": 3
   },
   "file_extension": ".py",
   "mimetype": "text/x-python",
   "name": "python",
   "nbconvert_exporter": "python",
   "pygments_lexer": "ipython3",
   "version": "3.8.2-final"
  },
  "orig_nbformat": 2,
  "kernelspec": {
   "name": "python3",
   "display_name": "Python 3.8.2 64-bit",
   "metadata": {
    "interpreter": {
     "hash": "31f2aee4e71d21fbe5cf8b01ff0e069b9275f58929596ceb00d14d90e3e16cd6"
    }
   }
  }
 },
 "nbformat": 4,
 "nbformat_minor": 2,
 "cells": [
  {
   "cell_type": "code",
   "execution_count": 128,
   "metadata": {},
   "outputs": [],
   "source": [
    "### Improved sentiment analysis classifer ###\n",
    "# Uses k-fold cross validation and Naive Bayes, Decision Tree, and Bernoulli ML models #\n",
    "# Outputs average accuracy of the model #"
   ]
  },
  {
   "source": [
    "import tarfile\n",
    "import collections\n",
    "import nltk\n",
    "import sys\n",
    "import random\n",
    "import string\n",
    "import re\n",
    "import numpy as np\n",
    "import sklearn\n",
    "from sklearn.model_selection import KFold, ShuffleSplit\n",
    "from sklearn.naive_bayes import BernoulliNB\n",
    "from sklearn.model_selection import train_test_split\n",
    "from nltk import classify\n",
    "from nltk.classify import SklearnClassifier\n",
    "from nltk import NaiveBayesClassifier, DecisionTreeClassifier\n",
    "from nltk.corpus import stopwords\n",
    "from nltk.tag import pos_tag\n",
    "from nltk.stem.wordnet import WordNetLemmatizer\n",
    "from nltk.tag import pos_tag\n",
    "from nltk.metrics.scores import precision, recall\n",
    "from nltk.stem import WordNetLemmatizer\n",
    "\n"
   ],
   "cell_type": "code",
   "metadata": {},
   "execution_count": 129,
   "outputs": []
  },
  {
   "cell_type": "code",
   "execution_count": 130,
   "metadata": {},
   "outputs": [],
   "source": [
    "# training/testing data files\n",
    "polaritytar = tarfile.open(\"../Data/review_polarity.tar.gz\", \"r\")\n",
    "polaritytar.extractall('../Data/Polarity_Data')\n",
    "\n",
    "nrctar = tarfile.open(\"../Data/NRC-Sentiment-Emotion-Lexicons.tar.gz\", 'r')\n",
    "nrctar.extractall('../Data/NRC_Data')"
   ]
  },
  {
   "cell_type": "code",
   "execution_count": 131,
   "metadata": {
    "tags": []
   },
   "outputs": [],
   "source": [
    "### get all the lines from all the reviews ###\n",
    "\n",
    "# lines from negative reviews\n",
    "neglines = []\n",
    "for nfilename in os.listdir('../Data/Polarity_Data/txt_sentoken/neg'):\n",
    "    open_file = open(('../Data/Polarity_Data/txt_sentoken/neg/' + nfilename),\"r\")\n",
    "    neglines = open_file.readlines()\n",
    "\n",
    "# lines from positive reviews\n",
    "poslines = []\n",
    "for pfilename in os.listdir('../Data/Polarity_Data/txt_sentoken/pos'):\n",
    "    open_file = open(('../Data/Polarity_Data/txt_sentoken/pos/' + pfilename),\"r\")\n",
    "    poslines = open_file.readlines()\n",
    "    "
   ]
  },
  {
   "cell_type": "code",
   "execution_count": 132,
   "metadata": {},
   "outputs": [],
   "source": [
    "intensity_file = open('../Data/NRC_Data/NRC-Sentiment-Emotion-Lexicons/NRC-Sentiment-Emotion-Lexicons/NRC-Emotion-Lexicon-v0.92/NRC-Emotion-Lexicon-Wordlevel-v0.92.txt')\n",
    "intensity_lines = intensity_file.readlines()"
   ]
  },
  {
   "cell_type": "code",
   "execution_count": 133,
   "metadata": {},
   "outputs": [],
   "source": [
    "lemmatizer = WordNetLemmatizer()"
   ]
  },
  {
   "cell_type": "code",
   "execution_count": 134,
   "metadata": {},
   "outputs": [],
   "source": [
    "word_emotions = dict()\n",
    "# use the data from affect-intensity file\n",
    "for line in intensity_lines[1:]:\n",
    "    features = line.split()\n",
    "    # features[0]: the word\n",
    "    # features[2]: the primary sentiment (fear, sadness, anger, joy)\n",
    "    if features[2] == '1':\n",
    "        word_emotion = (lemmatizer.lemmatize(features[0]), features[1])\n",
    "        word_emotions.update({word_emotion})"
   ]
  },
  {
   "cell_type": "code",
   "execution_count": 135,
   "metadata": {},
   "outputs": [],
   "source": [
    "### tokenize each line based on whitespace ###\n",
    "\n",
    "# tokens for positive reviews\n",
    "poslines_tokens = []\n",
    "for line in poslines:\n",
    "    l = []\n",
    "    for word in line.split():\n",
    "        l.append(word)\n",
    "    poslines_tokens.append(l)\n",
    "# tokens for negative reviews\n",
    "neglines_tokens = []\n",
    "for line in neglines:\n",
    "    l = []\n",
    "    for word in line.split():\n",
    "        l.append(word)\n",
    "    neglines_tokens.append(l)"
   ]
  },
  {
   "cell_type": "code",
   "execution_count": 136,
   "metadata": {},
   "outputs": [],
   "source": [
    "### helper function to remove non-alphanumeric characters and lowercase each token ###\n",
    "def clean_tokens(tokens):\n",
    "\n",
    "    cleaned_tokens = []\n",
    "    for token in tokens:\n",
    "        # removing stop words from the vocabulary also decreases performance pretty significantly\n",
    "        if len(token) != 0 and token not in string.punctuation: # and token.lower() not in stopwords.words('english'):\n",
    "            cleaned_tokens.append(lemmatizer.lemmatize(token.lower()))\n",
    "\n",
    "    # I also tried messing around with POS tags - appending them to the word, replacing the word, etc\n",
    "    # I think POS tags might have been more helpful if it had a label for neg words - this might have been useful for the \"conflicting sentiments\" part a few cells down\n",
    "\n",
    "    # return pos_tag(cleaned_tokens)\n",
    "    return cleaned_tokens"
   ]
  },
  {
   "cell_type": "code",
   "execution_count": 137,
   "metadata": {},
   "outputs": [],
   "source": [
    "### clean up the tokens list ###\n",
    "positive_cleaned_tokens = []\n",
    "negative_cleaned_tokens = []\n",
    "\n",
    "for tokens in poslines_tokens:\n",
    "    positive_cleaned_tokens.append(clean_tokens(tokens))\n",
    "\n",
    "for tokens in neglines_tokens:\n",
    "    negative_cleaned_tokens.append(clean_tokens(tokens))"
   ]
  },
  {
   "cell_type": "code",
   "execution_count": 138,
   "metadata": {},
   "outputs": [],
   "source": [
    "### helper function to create the model from the tokens list ###\n",
    "def create_model(cleaned_tokens_list):\n",
    "    for tokens in cleaned_tokens_list:\n",
    "        # True is just a placeholder value\n",
    "        yield dict([token, True] for token in tokens)"
   ]
  },
  {
   "cell_type": "code",
   "execution_count": 139,
   "metadata": {
    "tags": []
   },
   "outputs": [],
   "source": [
    "positive_tokens_for_model = create_model(positive_cleaned_tokens)\n",
    "negative_tokens_for_model = create_model(negative_cleaned_tokens)"
   ]
  },
  {
   "cell_type": "code",
   "execution_count": 140,
   "metadata": {
    "tags": []
   },
   "outputs": [],
   "source": [
    "# categorize the tokens in each review\n",
    "positive_dataset = [(t,\"Positive\") for t in positive_tokens_for_model]\n",
    "negative_dataset = [(t,\"Negative\") for t in negative_tokens_for_model]\n"
   ]
  },
  {
   "cell_type": "code",
   "execution_count": 141,
   "metadata": {},
   "outputs": [],
   "source": [
    "positive_emotions = ['positive', 'anticipation', 'joy', 'surprise', 'trust']\n",
    "negative_emotions = ['anger', 'disgust', 'fear', 'negative', 'sadness']"
   ]
  },
  {
   "cell_type": "code",
   "execution_count": 142,
   "metadata": {},
   "outputs": [],
   "source": [
    "# here we remove words from \"conflicting\" sentiments from the reviews\n",
    "# i.e. if there is a word in a review marked as positive that has a \"sadness\" label, that word will be removed\n",
    "\n",
    "# first we remove negative words from the set of positive reviews\n",
    "pos_to_remove = list()\n",
    "for (review, sentiment) in positive_dataset:\n",
    "    for word in review:\n",
    "        if word in word_emotions and word_emotions[word] in negative_emotions:\n",
    "            pos_to_remove.append(word)\n",
    "\n",
    "# kinda convoluted way of doing it because modify review while iterating through it = bad\n",
    "for (review, sentiment) in positive_dataset:\n",
    "    for neg_word in pos_to_remove:\n",
    "        if neg_word in review.keys():\n",
    "            review.pop(neg_word)\n",
    "\n",
    "# remove positive words from negative reviews\n",
    "# interestingly enough, doing this actually decreases the performance. I'm guessing it's because it's more common to negate a positive word to make a negative phrase than to negate a negative word and make a positive one\n",
    "# I commented it out to maximize performance, but if I had time in abundance I might try playing with scope of negation stuff to see if I could get it to improve performance\n",
    "\n",
    "# neg_to_remove = list()\n",
    "# for (review, sentiment) in negative_dataset:\n",
    "#     for word in review:\n",
    "#         if word in word_emotions and word_emotions[word] in positive_emotions:\n",
    "#             neg_to_remove.append(word)\n",
    "\n",
    "# for (review, sentiment) in negative_dataset:\n",
    "#     for pos_word in neg_to_remove:\n",
    "#         if pos_word in review.keys():\n",
    "#             review.pop(pos_word)\n"
   ]
  },
  {
   "cell_type": "code",
   "execution_count": 143,
   "metadata": {},
   "outputs": [],
   "source": [
    "dataset = positive_dataset + negative_dataset\n",
    "# I commented out the line below because I wanted to see how adding or changing just one feature would improve the performance, without the random variations caused by shuffling\n",
    "#random.shuffle(dataset)\n"
   ]
  },
  {
   "cell_type": "code",
   "execution_count": 144,
   "metadata": {},
   "outputs": [],
   "source": [
    "np_dataset = np.array(dataset)"
   ]
  },
  {
   "cell_type": "code",
   "execution_count": 145,
   "metadata": {},
   "outputs": [
    {
     "output_type": "stream",
     "name": "stdout",
     "text": [
      "Naive Bayes accuracy is: 0.8552188552188551\nNaive Bayes precision is: 0.8728174603174602\n\n\nDecision Tree accuracy is: 0.7575757575757576\nDecision Tree precision is: 0.7366402116402115\n\n\nBernoulli accuracy is: 0.8367003367003368\nBernoulli precision is: 0.7150573192239859\n"
     ]
    }
   ],
   "source": [
    "\n",
    "# use k-fold cross validation with k = 9 to train and test\n",
    "kfold = KFold(n_splits=9, shuffle=True, random_state=1)\n",
    "nb_mean_accuracy, dt_mean_accuracy, bern_mean_accuracy = list(), list(), list()\n",
    "nb_mean_precision, dt_mean_precision, bern_mean_precision = list(), list(), list()\n",
    "\n",
    "for train, test in kfold.split(np_dataset):\n",
    "    # naive bayes classifier\n",
    "    nb_classifier = NaiveBayesClassifier.train(np_dataset[train])\n",
    "    nb_mean_accuracy.append(classify.accuracy(nb_classifier, np_dataset[test]))\n",
    "\n",
    "    # decitions tree classifier\n",
    "    dt_classifier = DecisionTreeClassifier.train(np_dataset[train])\n",
    "    dt_mean_accuracy.append(classify.accuracy(dt_classifier, np_dataset[test]))\n",
    "\n",
    "    # bernoulli classifier\n",
    "    bern_classifier = SklearnClassifier(BernoulliNB()).train(np_dataset[train])\n",
    "    bern_mean_accuracy.append(classify.accuracy(bern_classifier, np_dataset[test]))\n",
    "    \n",
    "    refsets = collections.defaultdict(set)\n",
    "    testsets = collections.defaultdict(set)\n",
    "\n",
    "    classifiers = [nb_classifier, dt_classifier, bern_classifier]\n",
    "\n",
    "    for classifier in classifiers:\n",
    "        for i, (feats, label) in enumerate(np_dataset[test]):\n",
    "            refsets[label].add(i)\n",
    "            observed = classifier.classify(feats)\n",
    "            testsets[observed].add(i)   \n",
    "\n",
    "        if classifier == nb_classifier:\n",
    "            nb_mean_precision.append(precision(refsets['Positive'], testsets['Positive']))\n",
    "            nb_mean_precision.append(precision(refsets['Negative'], testsets['Negative']))\n",
    "\n",
    "        elif classifier == dt_classifier:\n",
    "            dt_mean_precision.append(precision(refsets['Positive'], testsets['Positive']))\n",
    "            dt_mean_precision.append(precision(refsets['Negative'], testsets['Negative']))\n",
    "\n",
    "        elif classifier == bern_classifier:\n",
    "            bern_mean_precision.append(precision(refsets['Positive'], testsets['Positive']))\n",
    "            bern_mean_precision.append(precision(refsets['Negative'], testsets['Negative']))\n",
    "\n",
    "# print the mean accuracy across all the folds for each classifier\n",
    "print(\"Naive Bayes accuracy:\", np.mean(nb_mean_accuracy))\n",
    "print(\"Naive Bayes precision:\", np.mean(nb_mean_precision))\n",
    "print('\\n')\n",
    "print(\"Decision Tree accuracy:\", np.mean(dt_mean_accuracy))\n",
    "print(\"Decision Tree precision:\", np.mean(dt_mean_precision))\n",
    "print('\\n')\n",
    "print(\"Bernoulli accuracy:\", np.mean(bern_mean_accuracy))\n",
    "print(\"Bernoulli precision:\", np.mean(bern_mean_precision))\n",
    "\n"
   ]
  }
 ]
}